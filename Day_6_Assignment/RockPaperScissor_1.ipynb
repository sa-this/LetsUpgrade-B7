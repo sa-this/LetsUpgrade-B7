{
 "cells": [
  {
   "cell_type": "code",
   "execution_count": 42,
   "metadata": {},
   "outputs": [
    {
     "name": "stdout",
     "output_type": "stream",
     "text": [
      "enter your input out of R | P | S: d\n",
      "enter your input out of R | P | S: r\n"
     ]
    },
    {
     "data": {
      "text/plain": [
       "'r'"
      ]
     },
     "execution_count": 42,
     "metadata": {},
     "output_type": "execute_result"
    }
   ],
   "source": [
    "def toGetInputFromUser():\n",
    "    player=\"blank\"\n",
    "    \n",
    "    while not(player.lower()==\"r\" or player.lower()==\"p\" or player.lower()==\"s\"):\n",
    "        player=input(\"enter your input out of R | P | S: \")\n",
    "    return player"
   ]
  },
  {
   "cell_type": "code",
   "execution_count": 51,
   "metadata": {},
   "outputs": [
    {
     "data": {
      "text/plain": [
       "'r'"
      ]
     },
     "execution_count": 51,
     "metadata": {},
     "output_type": "execute_result"
    }
   ],
   "source": [
    "import random\n",
    "def toGetInputFromBot():\n",
    "    lst=[\"r\",\"p\",\"s\"]\n",
    "    bot=random.choice(lst)\n",
    "    return bot"
   ]
  },
  {
   "cell_type": "code",
   "execution_count": 57,
   "metadata": {},
   "outputs": [
    {
     "data": {
      "text/plain": [
       "'draw'"
      ]
     },
     "execution_count": 57,
     "metadata": {},
     "output_type": "execute_result"
    }
   ],
   "source": [
    "def toCheckWinner(player,bot):\n",
    "    if(player==\"r\" and (bot==\"p\" or bot==\"s\")):\n",
    "        if(bot==\"p\"):\n",
    "            return \"player\"\n",
    "        else:\n",
    "            return \"bot\"\n",
    "    elif(player==\"p\" and (bot==\"r\" or bot==\"s\")):\n",
    "        if(bot==\"p\"):\n",
    "            return \"player\"\n",
    "        else:\n",
    "            return \"bot\"\n",
    "    elif(player==\"s\" and (bot==\"p\" or bot==\"r\")):\n",
    "        if(bot==\"p\"):\n",
    "            return \"player\"\n",
    "        else:\n",
    "            return \"bot\"\n",
    "    elif(player==bot):\n",
    "        return \"draw\""
   ]
  },
  {
   "cell_type": "code",
   "execution_count": 90,
   "metadata": {},
   "outputs": [
    {
     "name": "stdout",
     "output_type": "stream",
     "text": [
      "enter your input out of R | P | S: s\n",
      "\n",
      "The player choose: s\n",
      "\n",
      "The bot choose :  s\n",
      "\n",
      "the winner is:  draw \n",
      "\n",
      "\n",
      "         Score Board\n",
      "_____________________________________________\n",
      "\n",
      "Player's score--------->  \t 1\n",
      "\n",
      "Bot's Score------------>\t 1\n",
      "_____________________________________________\n",
      "\n",
      "If you want quite press y otherwise press n\n",
      "n\n",
      "_______________________XXX________________________\n",
      "enter your input out of R | P | S: r\n",
      "\n",
      "The player choose: r\n",
      "\n",
      "The bot choose :  r\n",
      "\n",
      "the winner is:  draw \n",
      "\n",
      "\n",
      "         Score Board\n",
      "_____________________________________________\n",
      "\n",
      "Player's score--------->  \t 2\n",
      "\n",
      "Bot's Score------------>\t 2\n",
      "_____________________________________________\n",
      "\n",
      "If you want quite press y otherwise press n\n",
      "n\n",
      "_______________________XXX________________________\n",
      "enter your input out of R | P | S: p\n",
      "\n",
      "The player choose: p\n",
      "\n",
      "The bot choose :  r\n",
      "\n",
      "the winner is:  bot \n",
      "\n",
      "\n",
      "         Score Board\n",
      "_____________________________________________\n",
      "\n",
      "Player's score--------->  \t 2\n",
      "\n",
      "Bot's Score------------>\t 4\n",
      "_____________________________________________\n",
      "\n",
      "If you want quite press y otherwise press n\n",
      "y\n",
      "_______________________XXX________________________\n"
     ]
    }
   ],
   "source": [
    "def rps():\n",
    "    playerScore=0\n",
    "    botScore=0\n",
    "    quite=\"n\"\n",
    "    while(quite !=\"y\"):\n",
    "        player=toGetInputFromUser()\n",
    "\n",
    "        print(\"\\nThe player choose:\",player)\n",
    "        bot=toGetInputFromBot()\n",
    "        print(\"\\nThe bot choose : \",bot)\n",
    "        winner=toCheckWinner(player,bot)\n",
    "        print(\"\\nthe winner is: \",winner,\"\\n\\n\")\n",
    "\n",
    "        if(winner==\"player\"):\n",
    "            playerScore+=2\n",
    "        elif(winner==\"bot\"):\n",
    "            botScore+=2\n",
    "        else:\n",
    "            playerScore+=1\n",
    "            botScore+=1\n",
    "            \n",
    "        print(\"Score Board\".rjust(20,\" \"))\n",
    "        print(\"_____________________________________________\")\n",
    "        print(\"\\nPlayer's score--------->  \\t\",playerScore)\n",
    "        print(\"\\nBot's Score------------>\\t\",botScore)\n",
    "        print(\"_____________________________________________\")\n",
    "        quite=input(\"\\nIf you want quite press y otherwise press n\\n\")\n",
    "        print(\"XXX\".center(50,\"_\"))\n",
    "rps()"
   ]
  },
  {
   "cell_type": "code",
   "execution_count": null,
   "metadata": {},
   "outputs": [],
   "source": []
  }
 ],
 "metadata": {
  "kernelspec": {
   "display_name": "Python 3",
   "language": "python",
   "name": "python3"
  },
  "language_info": {
   "codemirror_mode": {
    "name": "ipython",
    "version": 3
   },
   "file_extension": ".py",
   "mimetype": "text/x-python",
   "name": "python",
   "nbconvert_exporter": "python",
   "pygments_lexer": "ipython3",
   "version": "3.8.2"
  }
 },
 "nbformat": 4,
 "nbformat_minor": 4
}
