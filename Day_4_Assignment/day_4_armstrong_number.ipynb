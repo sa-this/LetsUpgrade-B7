{
 "cells": [
  {
   "cell_type": "code",
   "execution_count": null,
   "metadata": {
    "scrolled": true
   },
   "outputs": [],
   "source": [
    "for num in range(1042000,702648266):\n",
    "    order=len(str(num));\n",
    "    add=0;\n",
    "    temp=num;\n",
    "    while temp>0:\n",
    "        digit=temp%10;\n",
    "        add += digit**order;\n",
    "        temp=temp//10;\n",
    "    if(num==add):\n",
    "        print(num);\n",
    "        break;"
   ]
  }
 ],
 "metadata": {
  "kernelspec": {
   "display_name": "Python 3",
   "language": "python",
   "name": "python3"
  },
  "language_info": {
   "codemirror_mode": {
    "name": "ipython",
    "version": 3
   },
   "file_extension": ".py",
   "mimetype": "text/x-python",
   "name": "python",
   "nbconvert_exporter": "python",
   "pygments_lexer": "ipython3",
   "version": "3.8.2"
  }
 },
 "nbformat": 4,
 "nbformat_minor": 4
}
