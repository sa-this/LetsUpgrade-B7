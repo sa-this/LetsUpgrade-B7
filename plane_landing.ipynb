{
 "cells": [
  {
   "cell_type": "markdown",
   "metadata": {},
   "source": [
    "# Plane landing assignment"
   ]
  },
  {
   "cell_type": "code",
   "execution_count": 5,
   "metadata": {},
   "outputs": [
    {
     "name": "stdout",
     "output_type": "stream",
     "text": [
      "Enter the altitude of plane : 1000\n",
      "Safe to land\n"
     ]
    }
   ],
   "source": [
    "altitude=int(input(\"Enter the altitude of plane : \"))\n",
    "\n",
    "if(altitude<=1000):\n",
    "    print(\"Safe to land :)\")\n",
    "elif(altitude<=5000):\n",
    "    print(\"Land down to 1000ft\")\n",
    "else:\n",
    "    print(\"Turn Arround...!\")"
   ]
  }
 ],
 "metadata": {
  "kernelspec": {
   "display_name": "Python 3",
   "language": "python",
   "name": "python3"
  },
  "language_info": {
   "codemirror_mode": {
    "name": "ipython",
    "version": 3
   },
   "file_extension": ".py",
   "mimetype": "text/x-python",
   "name": "python",
   "nbconvert_exporter": "python",
   "pygments_lexer": "ipython3",
   "version": "3.8.2"
  }
 },
 "nbformat": 4,
 "nbformat_minor": 4
}
