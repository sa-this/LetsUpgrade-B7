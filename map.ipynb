{
 "cells": [
  {
   "cell_type": "code",
   "execution_count": 54,
   "metadata": {},
   "outputs": [
    {
     "name": "stdout",
     "output_type": "stream",
     "text": [
      "['Hi Hello', 'Welcome This Is Python']\n"
     ]
    }
   ],
   "source": [
    "lst=[\"hi hello\",\"welcome this is python\"]\n",
    "\n",
    "# def toCaps(item):\n",
    "#     parts=item.split(\" \")\n",
    "#     string=(p.capitalize() for p in parts)\n",
    "#     #sentence=\" \".join([p.capitalize() for p in (item.split(\" \"))])\n",
    "#     sentence=\" \".join(string)\n",
    "#     return sentence\n",
    "\n",
    "# # capitazed=map(toCaps,lst)\n",
    "# # print(list(capitalized))\n",
    "\n",
    "capitalize=map(lambda x:x.title(),lst)\n",
    "print(list(capitalize))"
   ]
  },
  {
   "cell_type": "code",
   "execution_count": 52,
   "metadata": {},
   "outputs": [
    {
     "data": {
      "text/plain": [
       "'Satheesh Kumar'"
      ]
     },
     "execution_count": 52,
     "metadata": {},
     "output_type": "execute_result"
    }
   ],
   "source": [
    "s=\"satheesh kumar\"\n",
    "s.title()\n",
    "s."
   ]
  }
 ],
 "metadata": {
  "kernelspec": {
   "display_name": "Python 3",
   "language": "python",
   "name": "python3"
  },
  "language_info": {
   "codemirror_mode": {
    "name": "ipython",
    "version": 3
   },
   "file_extension": ".py",
   "mimetype": "text/x-python",
   "name": "python",
   "nbconvert_exporter": "python",
   "pygments_lexer": "ipython3",
   "version": "3.8.2"
  }
 },
 "nbformat": 4,
 "nbformat_minor": 4
}
