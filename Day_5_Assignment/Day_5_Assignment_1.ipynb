{
 "cells": [
  {
   "cell_type": "code",
   "execution_count": 34,
   "metadata": {},
   "outputs": [
    {
     "name": "stdout",
     "output_type": "stream",
     "text": [
      "super list is : [1, 2, 3, 4, 5, 6, 7]\n",
      "Sublist is : [2, 3, 4]\n",
      "\n",
      "it's match\n"
     ]
    }
   ],
   "source": [
    "supList=[1,2,3,4,5,6,7]\n",
    "subList=[2,3,4]\n",
    "\n",
    "print(\"super list is :\", supList)\n",
    "print(\"Sublist is :\",subList)\n",
    "flag=0\n",
    "if all(x in supList for x in subList):\n",
    "    flag=1;\n",
    "if flag:\n",
    "    print(\"\\nit's match\")\n",
    "else:\n",
    "    print(\"it's gone\")\n"
   ]
  }
 ],
 "metadata": {
  "kernelspec": {
   "display_name": "Python 3",
   "language": "python",
   "name": "python3"
  },
  "language_info": {
   "codemirror_mode": {
    "name": "ipython",
    "version": 3
   },
   "file_extension": ".py",
   "mimetype": "text/x-python",
   "name": "python",
   "nbconvert_exporter": "python",
   "pygments_lexer": "ipython3",
   "version": "3.8.2"
  }
 },
 "nbformat": 4,
 "nbformat_minor": 4
}
